{
 "cells": [
  {
   "cell_type": "markdown",
   "id": "7522909d-9ed5-41a6-b6bb-94a168c66e3e",
   "metadata": {},
   "source": [
    "### Numpy Task"
   ]
  },
  {
   "cell_type": "code",
   "execution_count": 1,
   "id": "ba0366a7-4fa4-400a-a390-642ebaba0427",
   "metadata": {},
   "outputs": [
    {
     "name": "stdout",
     "output_type": "stream",
     "text": [
      "<class 'numpy.ndarray'> [ 1  2  3  4  5  6  7  8  9 10]\n"
     ]
    }
   ],
   "source": [
    "import numpy as np\n",
    "# 1~10까지의 요소를 ndarray에 담는다.\n",
    "# ndarray1 = np.array([1, 2, 3, 4, 5, 6, 7, 8, 9, 10])\n",
    "ndarray1 = np.arange(start=1, stop=11)\n",
    "print(type(ndarray1), ndarray1)"
   ]
  },
  {
   "cell_type": "code",
   "execution_count": 2,
   "id": "a071feda-df31-446f-a0a9-15e57c397731",
   "metadata": {},
   "outputs": [
    {
     "name": "stdout",
     "output_type": "stream",
     "text": [
      "[[6 5]\n",
      " [4 3]\n",
      " [2 1]]\n"
     ]
    }
   ],
   "source": [
    "# 3행 2열 list를 ndarray에 담고 각 요소는 순서대로 6, 5, 4, 3, 2, 1이다.\n",
    "list2 = [[1, 2], [3, 4], [5, 6]]\n",
    "ndarray2 = np.array(list2)\n",
    "sorted_ndarray2 = np.sort(ndarray2, axis=0)[::-1, ::-1]\n",
    "# ndarray1 = np.arange(start=6, stop=0, step=-1)\n",
    "# ndarray2 = ndarray1.reshape((3, 2))\n",
    "print(sorted_ndarray2)"
   ]
  },
  {
   "cell_type": "code",
   "execution_count": 3,
   "id": "c193536b-461b-40df-a646-5052214dfb68",
   "metadata": {},
   "outputs": [
    {
     "name": "stdout",
     "output_type": "stream",
     "text": [
      "[[10]\n",
      " [ 8]\n",
      " [ 6]\n",
      " [ 4]]\n"
     ]
    }
   ],
   "source": [
    "# 4행 1열 ndarray, 순서대로 10, 8, 6, 4를 담는다.\n",
    "# Transpose: 전치 행과 열을 바꿔준다.\n",
    "ndarray1 = np.arange(start=10, stop=3, step=-2)\n",
    "# ndarray1 = np.arange(start=4, stop=11, step=2)[::-1]\n",
    "ndarray2 = ndarray1.reshape((4, 1))\n",
    "print(ndarray2)"
   ]
  },
  {
   "cell_type": "code",
   "execution_count": 4,
   "id": "88a42500-ff2d-43d3-9ba2-303ea689ae56",
   "metadata": {},
   "outputs": [
    {
     "name": "stdout",
     "output_type": "stream",
     "text": [
      "[ 6  7  8  9 10 11 12 13 14 15]\n"
     ]
    }
   ],
   "source": [
    "# 1~10까지 요소를 ndarray에 담고 각 요소에 5씩 더해준다.\n",
    "ndarray1 = np.arange(start=1, stop=11)\n",
    "ndarray1 += 5\n",
    "\n",
    "# list_ndarray1 = list(ndarray1)\n",
    "\n",
    "# for i in range(len(list_ndarray1)):\n",
    "#     list_ndarray1[i] += 5\n",
    "    \n",
    "# ndarray1 = np.array(list_ndarray1)\n",
    "print(ndarray1)"
   ]
  },
  {
   "cell_type": "code",
   "execution_count": 5,
   "id": "d182b0a9-f7d1-41c0-bd4e-8e62bd14eb4d",
   "metadata": {},
   "outputs": [
    {
     "name": "stdout",
     "output_type": "stream",
     "text": [
      "int32 (10,)\n",
      "[0 0 0 0 0 0 0 0 0 0]\n"
     ]
    }
   ],
   "source": [
    "# axis 0이 10인 shape이면서 모든 원소가 0, dtype은 int32인 ndarray만들기\n",
    "# ndarray1 = np.arange(start=0, stop=10) * 0\n",
    "ndarray1 = np.zeros((10,), dtype=np.int32)\n",
    "print(ndarray1.dtype, ndarray1.shape)\n",
    "print(ndarray1)"
   ]
  },
  {
   "cell_type": "code",
   "execution_count": 6,
   "id": "66beb511-be04-4e1d-9684-94c9676509e6",
   "metadata": {},
   "outputs": [
    {
     "name": "stdout",
     "output_type": "stream",
     "text": [
      "[[1. 1. 1. 1.]\n",
      " [1. 1. 1. 1.]\n",
      " [1. 1. 1. 1.]]\n"
     ]
    }
   ],
   "source": [
    "# axis 0이 3, axis 1이 4인 shape이면서 모든 원소가 1인 ndarray 만들기\n",
    "# ndarray2 = np.zeros((3, 4)) + 1\n",
    "ndarray2 = np.ones((3, 4))\n",
    "print(ndarray2)"
   ]
  },
  {
   "cell_type": "code",
   "execution_count": 7,
   "id": "58cbe534-4b9f-4551-add0-1cf53c973949",
   "metadata": {},
   "outputs": [
    {
     "name": "stdout",
     "output_type": "stream",
     "text": [
      "[0 1 2 3 4]\n"
     ]
    }
   ],
   "source": [
    "# axis 0이 5, 각 요소가 0~4인 ndarray 만들기\n",
    "ndarray1 = np.arange(stop=5)\n",
    "print(ndarray1)"
   ]
  },
  {
   "cell_type": "code",
   "execution_count": 8,
   "id": "15de2de5-f0f7-4c2c-a57e-72807c3981e1",
   "metadata": {},
   "outputs": [],
   "source": [
    "# 아래의 ndarray1이 주어졌을 때 순서대로 문제를 해결한다.\n",
    "ndarray1 = np.arange(start=0, stop=16)"
   ]
  },
  {
   "cell_type": "code",
   "execution_count": 9,
   "id": "9db2b80a-b819-4a6f-ae87-f6f642e8498c",
   "metadata": {},
   "outputs": [
    {
     "name": "stdout",
     "output_type": "stream",
     "text": [
      "[[ 0  1]\n",
      " [ 2  3]\n",
      " [ 4  5]\n",
      " [ 6  7]\n",
      " [ 8  9]\n",
      " [10 11]\n",
      " [12 13]\n",
      " [14 15]]\n"
     ]
    }
   ],
   "source": [
    "# 2 Dimension, axis 1은 2로 변경\n",
    "ndarray2 = ndarray1.reshape((-1, 2))\n",
    "print(ndarray2)"
   ]
  },
  {
   "cell_type": "code",
   "execution_count": 10,
   "id": "6f1f6ddc-a10f-449a-a017-8d97cce27345",
   "metadata": {},
   "outputs": [
    {
     "name": "stdout",
     "output_type": "stream",
     "text": [
      "[[ 0  1]\n",
      " [ 2  3]\n",
      " [ 4  5]\n",
      " [ 6  7]\n",
      " [ 8  9]\n",
      " [10 11]\n",
      " [12 13]\n",
      " [14 15]]\n"
     ]
    }
   ],
   "source": [
    "# 2 Dimension, axis 0은 8로 변경\n",
    "ndarray2 = ndarray1.reshape((8, -1))\n",
    "print(ndarray2)"
   ]
  },
  {
   "cell_type": "code",
   "execution_count": 11,
   "id": "bea5c6e9-b58b-4795-a93e-5b195e707a5a",
   "metadata": {},
   "outputs": [
    {
     "name": "stdout",
     "output_type": "stream",
     "text": [
      "[[[ 0  1  2  3]\n",
      "  [ 4  5  6  7]]\n",
      "\n",
      " [[ 8  9 10 11]\n",
      "  [12 13 14 15]]]\n"
     ]
    }
   ],
   "source": [
    "# 3 Dimension으로 변경\n",
    "ndarray3 = ndarray1.reshape((2, 2, -1))\n",
    "print(ndarray3)"
   ]
  },
  {
   "cell_type": "code",
   "execution_count": 12,
   "id": "4e5a7a05-da65-4c1e-adf8-10a07bbec81d",
   "metadata": {},
   "outputs": [
    {
     "name": "stdout",
     "output_type": "stream",
     "text": [
      "[[ 0]\n",
      " [ 1]\n",
      " [ 2]\n",
      " [ 3]\n",
      " [ 4]\n",
      " [ 5]\n",
      " [ 6]\n",
      " [ 7]\n",
      " [ 8]\n",
      " [ 9]\n",
      " [10]\n",
      " [11]\n",
      " [12]\n",
      " [13]\n",
      " [14]\n",
      " [15]]\n"
     ]
    }
   ],
   "source": [
    "# ndarray3을 axis 1이 1인 2차원 ndarray로 변환\n",
    "ndarray2 = ndarray3.reshape((-1, 1))\n",
    "print(ndarray2)"
   ]
  },
  {
   "cell_type": "code",
   "execution_count": 29,
   "id": "680a24fe-6f0b-4b5f-9a79-001fcce4a3df",
   "metadata": {},
   "outputs": [
    {
     "name": "stdout",
     "output_type": "stream",
     "text": [
      "['한국' '영국' '러시아' '남아프리카 공화국' '미국']\n"
     ]
    }
   ],
   "source": [
    "# ndarray3을 1 Dimension으로 변환\n",
    "# ndarray1 = ndarray3.reshape((-1,))\n",
    "# flatten(): 1차원으로 만들어주는 함수\n",
    "ndarray1 = ndarray3.flatten()\n",
    "print(ndarray1)"
   ]
  },
  {
   "cell_type": "code",
   "execution_count": 14,
   "id": "1c4ef384-2bdc-465a-9f78-4dfabd222d94",
   "metadata": {},
   "outputs": [
    {
     "name": "stdout",
     "output_type": "stream",
     "text": [
      "[  1   2   3   4   5   6   7   8   9  10  11  12  13  14  15  16  17  18\n",
      "  19  20  21  22  23  24  25  26  27  28  29  30  31  32  33  34  35  36\n",
      "  37  38  39  40  41  42  43  44  45  46  47  48  49  50  51  52  53  54\n",
      "  55  56  57  58  59  60  61  62  63  64  65  66  67  68  69  70  71  72\n",
      "  73  74  75  76  77  78  79  80  81  82  83  84  85  86  87  88  89  90\n",
      "  91  92  93  94  95  96  97  98  99 100]\n",
      "97\n"
     ]
    }
   ],
   "source": [
    "# 1차원 ndarray 1~100까지 값 중 97값 추출하기\n",
    "ndarray1 = np.arange(start=1, stop=101)\n",
    "print(ndarray1)\n",
    "print(ndarray1[-4])"
   ]
  },
  {
   "cell_type": "code",
   "execution_count": 15,
   "id": "91c50f8e-f39c-4453-864f-958954bb1eb5",
   "metadata": {},
   "outputs": [],
   "source": [
    "# 아래의 ndarray1이 주어졌을 때 순서대로 문제를 해결한다.\n",
    "ndarray1 = np.arange(start=1, stop=21)"
   ]
  },
  {
   "cell_type": "code",
   "execution_count": 16,
   "id": "68beeb65-5ad0-4613-b499-b8bfdf4263bc",
   "metadata": {},
   "outputs": [
    {
     "name": "stdout",
     "output_type": "stream",
     "text": [
      "15\n"
     ]
    }
   ],
   "source": [
    "# 2차원 배열 axis 0은 4, axis 1은 5로 1~20 요소 값 중 15값 추출하기\n",
    "ndarray2 = ndarray1.reshape((4, 5))\n",
    "# print(ndarray2[ndarray2 == 15][0])\n",
    "print(ndarray2[2, 4])"
   ]
  },
  {
   "cell_type": "code",
   "execution_count": 17,
   "id": "d0501220-eba4-428e-a942-0baa275c2dcd",
   "metadata": {},
   "outputs": [
    {
     "name": "stdout",
     "output_type": "stream",
     "text": [
      "[[ 1  2  3  4]\n",
      " [ 5  6  7  8]\n",
      " [ 9 10 11 12]\n",
      " [13 14 15 16]\n",
      " [17 18 19 20]]\n"
     ]
    }
   ],
   "source": [
    "# 2 Dimension, axis 0은 5로 변경\n",
    "ndarray2 = ndarray1.reshape((5, -1))\n",
    "print(ndarray2)"
   ]
  },
  {
   "cell_type": "code",
   "execution_count": 18,
   "id": "e293b498-e814-4dce-bfaf-3dc664605cfb",
   "metadata": {},
   "outputs": [
    {
     "name": "stdout",
     "output_type": "stream",
     "text": [
      "8\n"
     ]
    }
   ],
   "source": [
    "# 2행의 4번째 숫자 출력\n",
    "print(ndarray2[1, 3])"
   ]
  },
  {
   "cell_type": "code",
   "execution_count": 19,
   "id": "ef52e446-c72d-463e-ba7d-6097a58cc7af",
   "metadata": {},
   "outputs": [
    {
     "name": "stdout",
     "output_type": "stream",
     "text": [
      "[  2   4   6   8  10  12  14  16  18  20  22  24  26  28  30  32  34  36\n",
      "  38  40  42  44  46  48  50  52  54  56  58  60  62  64  66  68  70  72\n",
      "  74  76  78  80  82  84  86  88  90  92  94  96  98 100]\n"
     ]
    }
   ],
   "source": [
    "# 1~100중 짝수만 출력\n",
    "ndarray1 = np.arange(start=1, stop=101)\n",
    "even_ndarray1 = ndarray1[ndarray1 % 2 == 0]\n",
    "print(even_ndarray1)"
   ]
  },
  {
   "cell_type": "code",
   "execution_count": 20,
   "id": "a290ebc8-0329-41e0-a35b-2bb649c771e4",
   "metadata": {},
   "outputs": [
    {
     "name": "stdout",
     "output_type": "stream",
     "text": [
      "[ 82  84  86  88  90  92  94  96  98 100]\n"
     ]
    }
   ],
   "source": [
    "# 위에서 구한 짝수들을 axis 0이 10인 2차원 배열로 변환 후 82~100까지 추출\n",
    "ndarray2 = even_ndarray1.reshape(10, -1)\n",
    "# print(ndarray2[[-2, -1]]) 2차원\n",
    "print(ndarray2[ndarray2 >= 82]) # 추출은 1차원으로 가져오는게 좋다"
   ]
  },
  {
   "cell_type": "code",
   "execution_count": 21,
   "id": "707384f1-a7ba-4e05-926e-40f192a696c4",
   "metadata": {},
   "outputs": [
    {
     "name": "stdout",
     "output_type": "stream",
     "text": [
      "(array([8], dtype=int64), array([2], dtype=int64))\n",
      "(array([9], dtype=int64), array([4], dtype=int64))\n",
      "86의 좌표: (8, 2)\n",
      "100의 좌표: (9, 4)\n"
     ]
    }
   ],
   "source": [
    "# 위에서 구한 요소 중 (86, 100) 좌표 구하기\n",
    "index = np.where(ndarray2 == 86)\n",
    "print(index)\n",
    "index = np.where(ndarray2 == 100)\n",
    "print(index)\n",
    "print(\"86의 좌표: (8, 2)\")\n",
    "print(\"100의 좌표: (9, 4)\")"
   ]
  },
  {
   "cell_type": "code",
   "execution_count": 22,
   "id": "7de0205d-7888-4784-9cda-6722ae5ca944",
   "metadata": {},
   "outputs": [],
   "source": [
    "# 아래의 ndarray1이 주어졌을 때 순서대로 문제를 해결한다.\n",
    "ndarray1 = np.arange(start=1, stop=101)"
   ]
  },
  {
   "cell_type": "code",
   "execution_count": 23,
   "id": "807b41b4-2e09-4cdf-a9b3-2e9a91df6e2a",
   "metadata": {},
   "outputs": [
    {
     "name": "stdout",
     "output_type": "stream",
     "text": [
      "[ 2 12 22 32 42 52 62 72 82 92]\n"
     ]
    }
   ],
   "source": [
    "# 각 요소중 1의 자리수가 2인 수들만 추출하기\n",
    "print(ndarray1[ndarray1 % 10 == 2])"
   ]
  },
  {
   "cell_type": "code",
   "execution_count": 24,
   "id": "c3a96c9c-169a-4bd0-9554-fd5b883352f2",
   "metadata": {},
   "outputs": [
    {
     "name": "stdout",
     "output_type": "stream",
     "text": [
      "[10 20 30 40]\n"
     ]
    }
   ],
   "source": [
    "# 1~49요소 중 2와 5의 공배수 추출하기\n",
    "result = ndarray1[(ndarray1 < 50) & (ndarray1 % 10 == 0)]\n",
    "print(result)"
   ]
  },
  {
   "cell_type": "code",
   "execution_count": 25,
   "id": "b782a90a-8f18-425a-adcf-fb1b9d07fc0e",
   "metadata": {},
   "outputs": [
    {
     "name": "stdout",
     "output_type": "stream",
     "text": [
      "[20 30 40]\n"
     ]
    }
   ],
   "source": [
    "# 위에서 추출한 공배수 중 20이상인 값만 추출하기\n",
    "print(result[result >= 20])"
   ]
  },
  {
   "cell_type": "code",
   "execution_count": 26,
   "id": "b1bf774f-c6d0-4cb7-b328-57980ebc78f2",
   "metadata": {},
   "outputs": [
    {
     "name": "stdout",
     "output_type": "stream",
     "text": [
      "[4 3 2 1 0]\n",
      "['Melon' 'Pitch' 'Pear' 'Apple' 'Mango']\n"
     ]
    }
   ],
   "source": [
    "# 데이터를 분석하여, 각 수치별 오름차순 및 내림차순 후 이름을 출력하세요.\n",
    "# [[과일이름], [가격]], 가격별 내림차순\n",
    "array1 = [['Mango', 'Apple', 'Pear', 'Pitch', 'Melon'], [1500, 1800, 2000, 2500, 8500]]\n",
    "ndarray2 = np.array(array1[0])\n",
    "price_ndarray2 = np.array(array1[1])\n",
    "\n",
    "price_sorted_index = np.argsort(price_ndarray2)[::-1]\n",
    "\n",
    "print(price_sorted_index)\n",
    "print(ndarray2[price_sorted_index])"
   ]
  },
  {
   "cell_type": "code",
   "execution_count": 27,
   "id": "1a51fa68-ccaa-4751-acf5-5eacc6da6713",
   "metadata": {},
   "outputs": [
    {
     "name": "stdout",
     "output_type": "stream",
     "text": [
      "[2 4 1 0 3]\n",
      "[1 2 0 4 3]\n",
      "['길동' '마이콜' '또치' '둘리' '도너']\n",
      "['또치' '길동' '둘리' '마이콜' '도너']\n"
     ]
    }
   ],
   "source": [
    "# [[이름], [나이], [학점]], 나이별 내림차순, 학점별 오름차순\n",
    "array2 = [['둘리', '또치', '길동', '도너', '마이콜'], [7, 9, 40, 5, 20], ['C', 'A', 'B', 'F', 'D']]\n",
    "ndarray2 = np.array(array2[0])\n",
    "age_ndarray2 = np.array(array2[1])\n",
    "score_ndarray2 = np.array(array2[2])\n",
    "\n",
    "age_sorted_index = np.argsort(age_ndarray2)[::-1]\n",
    "print(age_sorted_index)\n",
    "\n",
    "score_sorted_index = np.argsort(score_ndarray2)\n",
    "print(score_sorted_index)\n",
    "\n",
    "print(ndarray2[age_sorted_index])\n",
    "print(ndarray2[score_sorted_index])"
   ]
  },
  {
   "cell_type": "code",
   "execution_count": 28,
   "id": "afee1eca-12fd-493f-a249-a5bb648d1f74",
   "metadata": {},
   "outputs": [
    {
     "name": "stdout",
     "output_type": "stream",
     "text": [
      "['영국' '러시아' '남아프리카 공화국' '미국' '한국']\n"
     ]
    }
   ],
   "source": [
    "# [[국가이름], [GDP 성장률]], GDP 성장률별 오름차순\n",
    "array3 = [['한국', '영국', '러시아', '남아프리카 공화국', '미국'], ['1.7%', '-0.6%', '0.3%', '1.2%', '1.4%']]\n",
    "ndarray3 = np.array(array3[0])\n",
    "gdp_ndarray3 = np.array(array3[1])\n",
    "gdp_sorted_index = np.argsort(gdp_ndarray3)\n",
    "print(ndarray3[gdp_sorted_index])"
   ]
  },
  {
   "cell_type": "code",
   "execution_count": null,
   "id": "3157b1d0-408d-4c81-b30c-d380c1b48156",
   "metadata": {},
   "outputs": [],
   "source": [
    "# 강사님 코드\n",
    "import numpy as np\n",
    "\n",
    "# 1~10까지의 요소를 ndarray에 담는다.\n",
    "# ndarray1 = np.array(list(range(1, 11)))\n",
    "ndarray1 = np.arange(start=1, stop=11)\n",
    "print(ndarray1)\n",
    "\n",
    "# 3행 2열 list를 ndarray에 담고 각 요소는 순서대로 6, 5, 4, 3, 2, 1이다.\n",
    "python_list = []\n",
    "python_list.append([6 - i for i in range(2)])\n",
    "python_list.append([4 - i for i in range(2)])\n",
    "python_list.append([2 - i for i in range(2)])\n",
    "\n",
    "ndarray2 = np.array(python_list)\n",
    "print(type(ndarray2), ndarray2.shape, ndarray2.ndim, ndarray2.dtype, sep=\"\\n\")\n",
    "\n",
    "# 4행 1열 ndarray, 순서대로 10, 8, 6, 4를 담는다\n",
    "# Transpose: 전치, 행과 열을 바꿔준다.\n",
    "ndarray2 = np.array([[(5 - i) * 2 for i in range(4)]]).T\n",
    "print(ndarray2)\n",
    "\n",
    "# 1~10까지 요소를 ndarray에 담고 각 요소에 5씩 더해준다.\n",
    "ndarray1 = np.arange(start=1, stop=11)\n",
    "ndarray1_oper = ndarray1 + 5\n",
    "print(ndarray1_oper)\n",
    "\n",
    "# axis 0이 10인 shape이면서 모든 원소가 0, dtype은 int32인 ndarray만들기\n",
    "ndarray1 = np.zeros((10,), dtype=np.int32)\n",
    "print(ndarray1, ndarray1.shape, sep=\"\\n\")\n",
    "\n",
    "# axis 0이 3, axis1이 4인 shape이면서 모든 원소가 1인 ndarray 만들기\n",
    "ndarray1 = np.ones((3, 4), dtype=np.int8)\n",
    "print(ndarray1, ndarray1.shape, sep=\"\\n\")\n",
    "\n",
    "# axis 0이 5, 각 요소가 0~4인 ndarray 만들기\n",
    "ndarray1 = np.arange(stop=5)\n",
    "print(ndarray1, ndarray1.shape, sep=\"\\n\")\n",
    "\n",
    "# 아래의 ndarray1이 주어졌을 때 순서대로 문제를 해결한다.\n",
    "ndarray1 = np.arange(start=0, stop=16)\n",
    "\n",
    "# 2 Dimension, axis 1은 2로 변경\n",
    "ndarray2 = ndarray1.reshape((-1, 2))\n",
    "print(ndarray2, ndarray2.shape, sep=\"\\n\")\n",
    "\n",
    "# 2 Dimension, axis 0은 8로 변경\n",
    "ndarray2 = ndarray1.reshape((8, -1))\n",
    "print(ndarray2, ndarray2.shape, sep=\"\\n\")\n",
    "\n",
    "# 3 Dimension으로 변경\n",
    "ndarray3 = ndarray1.reshape((4, 2, -1))\n",
    "print(ndarray3, ndarray3.shape, sep=\"\\n\")\n",
    "\n",
    "# ndarray3을 axis 1이 1인 2차원 ndarray로 변환\n",
    "ndarray2 = ndarray3.reshape((-1, 1))\n",
    "print(ndarray2, ndarray2.shape, sep=\"\\n\")\n",
    "\n",
    "# ndarray3을 1 Dimension으로 변환\n",
    "# ndarray1 = ndarray3.reshape((-1, ))\n",
    "ndarray1 = ndarray3.flatten()\n",
    "print(ndarray1, ndarray1.shape, sep=\"\\n\")\n",
    "\n",
    "# 1차원 ndarray 1~100까지 값 중 97값 추출하기\n",
    "ndarray1 = np.arange(start=1, stop=101)\n",
    "print(ndarray1[96])\n",
    "\n",
    "# 아래의 ndarray1이 주어졌을 때 순서대로 문제를 해결한다.\n",
    "ndarray1 = np.arange(start=1, stop=21)\n",
    "\n",
    "# 2차원 배열 axis 0은 4, axis 1은 5로 1~20 요소 값 중 15값 추출하기\n",
    "ndarray2 = ndarray1.reshape((4, 5))\n",
    "print(ndarray2[2, 4])\n",
    "\n",
    "# 2 Dimension, axis 0은 5로 변경\n",
    "ndarray2 = ndarray1.reshape((5, -1))\n",
    "\n",
    "# 2행의 4번째 숫자 출력\n",
    "print(ndarray2[1, 3])\n",
    "\n",
    "# 1~100중 짝수만 출력\n",
    "ndarray1 = np.arange(start=1, stop=101)\n",
    "ndarray1_even = ndarray1[ndarray1 % 2 == 0]\n",
    "\n",
    "# 위에서 구한 짝수들을 axis 0이 10인 2차원 배열로 변환 후 82~100까지 추출\n",
    "ndarray2_even = ndarray1_even.reshape((10, -1))\n",
    "ndarray2_even_ex = ndarray2_even[8:]\n",
    "\n",
    "# 위에서 구한 요소 중 (86, 100) 좌표 구하기\n",
    "print(ndarray2_even_ex)\n",
    "print(\"86의 좌표(x, y): (0, 2)\")\n",
    "print(\"100의 좌표(x, y): (1, 4)\")\n",
    "print(ndarray2_even_ex[0, 2], ndarray2_even_ex[1, 4])\n",
    "\n",
    "# 아래의 ndarray1이 주어졌을 때 순서대로 문제를 해결한다.\n",
    "ndarray1 = np.arange(start=1, stop=101)\n",
    "\n",
    "# 각 요소중 1의 자리수가 2인 수들만 추출하기\n",
    "print(ndarray1[ndarray1 % 10 == 2])\n",
    "\n",
    "# 1~49요소 중 2와 5의 공배수 추출하기\n",
    "ndarray1 = np.arange(start=1, stop=50)\n",
    "condition1 = ndarray1 % 2 == 0\n",
    "condition2 = ndarray1 % 5 == 0\n",
    "condition3 = condition1 & condition2\n",
    "result = ndarray1[condition3]\n",
    "\n",
    "# 위에서 추출한 공배수 중 20이상인 값만 추출하기\n",
    "condition = result >= 20\n",
    "print(result[condition])\n",
    "\n",
    "# 데이터를 분석하여, 각 수치별 오름차순 및 내림차순 후 이름을 출력하세요.\n",
    "# [[과일이름], [가격]], 가격별 내림차순\n",
    "array1 = [['Mango', 'Apple', 'Pear', 'Pitch', 'Melon'], [1500, 1800, 2000, 2500, 8500]]\n",
    "\n",
    "ndarray2 = np.array(array1)\n",
    "fruit_name = ndarray2[:1].flatten()\n",
    "fruit_price = ndarray2[-1]\n",
    "\n",
    "print(fruit_name, fruit_price, sep=\"\\n\")\n",
    "\n",
    "fruit_name_asc = fruit_name[fruit_price.argsort()[::-1]]\n",
    "print(fruit_name_asc)\n",
    "\n",
    "# [[이름], [나이], [학점]], 나이별 내림차순, 학점별 오름차순\n",
    "array2 = [['둘리', '또치', '길동', '도너', '마이콜'], [7, 9, 40, 5, 20], ['C', 'A', 'B', 'F', 'D']]\n",
    "\n",
    "ndarray2 = np.array(array2)\n",
    "names = ndarray2[:1].flatten()\n",
    "ages = ndarray2[1].astype(np.int16)\n",
    "grades = ndarray2[-1]\n",
    "\n",
    "print(names, ages, grades)\n",
    "\n",
    "print(names[ages.argsort()[::-1]])\n",
    "print(names[grades.argsort()])\n",
    "\n",
    "# [[국가이름], [GDP 성장률]], GDP 성장률별 오름차순\n",
    "array3 = [['한국', '영국', '러시아', '남아프리카 공화국', '미국'], ['1.7%', '-0.6%', '0.3%', '1.2%', '1.4%']]\n",
    "gdp_list = []\n",
    "ndarray2 = np.array(array3)\n",
    "\n",
    "nations = ndarray2[0]\n",
    "gdps = ndarray2[1]\n",
    "\n",
    "\n",
    "for gdp in gdps:\n",
    "    gdp_list.append(gdp.replace('%', ''))\n",
    "\n",
    "gdps = np.array(gdp_list, dtype=np.float16)\n",
    "\n",
    "print(nations[gdps.argsort()])"
   ]
  }
 ],
 "metadata": {
  "kernelspec": {
   "display_name": "Python 3 (ipykernel)",
   "language": "python",
   "name": "python3"
  },
  "language_info": {
   "codemirror_mode": {
    "name": "ipython",
    "version": 3
   },
   "file_extension": ".py",
   "mimetype": "text/x-python",
   "name": "python",
   "nbconvert_exporter": "python",
   "pygments_lexer": "ipython3",
   "version": "3.11.8"
  }
 },
 "nbformat": 4,
 "nbformat_minor": 5
}
