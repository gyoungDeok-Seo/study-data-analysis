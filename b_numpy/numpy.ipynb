{
 "cells": [
  {
   "cell_type": "code",
   "execution_count": 1,
   "id": "59b9cecd-72d3-4639-bf13-7b9cd424a9f2",
   "metadata": {},
   "outputs": [],
   "source": [
    "import numpy as np"
   ]
  },
  {
   "cell_type": "code",
   "execution_count": 2,
   "id": "8d7a6270-ecee-4a0b-b41d-4d519de2e203",
   "metadata": {},
   "outputs": [
    {
     "name": "stdout",
     "output_type": "stream",
     "text": [
      "1.26.4\n"
     ]
    }
   ],
   "source": [
    "print(np.__version__)"
   ]
  },
  {
   "cell_type": "markdown",
   "id": "a2a02d27-2831-4c7c-887d-7d1e9aea292d",
   "metadata": {},
   "source": [
    "### Numpy\n",
    "- 머싱러닝 애플리케이션에서 데이터 추출, 가공, 변환과 같은 데이터 처리 부분을 담당한다.\n",
    "- 넘파이 기반의 사이킷런을 이해하기 위해서는 넘파이는 필수이다.\n",
    "- 사이킷런은 직관적이고 간결하기 때문에 상대적으로 개발하기 쉽지만 넘파이는 양도 많고 배울 것도 많다.\n",
    "- 넘파이 전체를 다 이해하고 공부하는 것은 머신러닝을 포기하게 만들기 때문에  \n",
    "  기본 문법과 중요 API만 이해하는 것이 전략적으로 좋다."
   ]
  },
  {
   "cell_type": "markdown",
   "id": "c25bc42f-b7d2-4d41-beda-f042b9b44333",
   "metadata": {},
   "source": [
    "#### ndarray\n",
    "- N차원(n-dimension) 배열 객체이다.\n",
    "- 파이썬 list를 array() 메소드에 전달하면 ndarray로 변환되고  \n",
    "  넘파이의 다양하고 편리한 기능들을 사용할 수 있게 된다.\n",
    "- 반드시 같은 자료형의 데이터만 담아야 한다.\n",
    "\n",
    "<img src=\"./images/numpy1.png\" width=\"400px\" style=\"margin-left: 10px\">"
   ]
  },
  {
   "cell_type": "code",
   "execution_count": 3,
   "id": "0104e019-5b4a-41ff-9a6f-bcf63f711425",
   "metadata": {},
   "outputs": [],
   "source": [
    "import numpy as np"
   ]
  },
  {
   "cell_type": "code",
   "execution_count": 6,
   "id": "b3882fb6-c6ab-49d6-b0d9-bebd2c878e2d",
   "metadata": {},
   "outputs": [
    {
     "name": "stdout",
     "output_type": "stream",
     "text": [
      "<class 'numpy.ndarray'>\n",
      "[1 2 3]\n",
      "==============================\n",
      "(3,)\n",
      "1\n"
     ]
    }
   ],
   "source": [
    "ndarray1 = np.array([1, 2, 3])\n",
    "print(type(ndarray1), ndarray1, sep=\"\\n\")\n",
    "\n",
    "print(\"=\" * 30)\n",
    "\n",
    "# shape: 차원별 개수를 나타낸다.\n",
    "print(ndarray1.shape)\n",
    "\n",
    "# ndim: 차원 개수를 나타낸다.\n",
    "print(ndarray1.ndim)"
   ]
  },
  {
   "cell_type": "code",
   "execution_count": 13,
   "id": "5d9abeee-e851-47d6-aa61-4328352db2a0",
   "metadata": {},
   "outputs": [
    {
     "name": "stdout",
     "output_type": "stream",
     "text": [
      "(2, 3)\n"
     ]
    }
   ],
   "source": [
    "# 아래의 2차원 list를 ndarray로 변환한다.\n",
    "# 1 2 3\n",
    "# 4 5 6\n",
    "\n",
    "ndarray2 = np.array([[1, 2, 3],[4, 5, 6]])\n",
    "print(type(ndarray2), ndarray2, sep=\"\\n\")\n",
    "\n",
    "# 차원을 출력해본다.\n",
    "print(ndarray2.shape)"
   ]
  },
  {
   "cell_type": "markdown",
   "id": "8289ca1b-6c4d-4937-aa34-604ab6e85c63",
   "metadata": {},
   "source": [
    "#### astype()\n",
    "- ndarray에 저장된 요소의 타입을 변환시킬 때 사용한다.\n",
    "- 대용량 데이터 처리 시 , 메모리 절약을 위해 사용한다."
   ]
  },
  {
   "cell_type": "code",
   "execution_count": 16,
   "id": "3d5a274d-8967-4964-b104-b69d7af6795a",
   "metadata": {},
   "outputs": [
    {
     "name": "stdout",
     "output_type": "stream",
     "text": [
      "<class 'numpy.ndarray'>\n",
      "int32\n",
      "<class 'numpy.ndarray'>\n",
      "int8\n"
     ]
    }
   ],
   "source": [
    "ndarray1 = np.array([1, 2, 3])\n",
    "\n",
    "print(type(ndarray1))\n",
    "print(ndarray1.dtype)\n",
    "\n",
    "ndarray1_int8 = ndarray1.astype(np.int8)\n",
    "\n",
    "print(type(ndarray1))\n",
    "print(ndarray1_int8.dtype)"
   ]
  },
  {
   "cell_type": "code",
   "execution_count": 19,
   "id": "3d458b74-aa2a-4674-8242-d5227bb53a8b",
   "metadata": {},
   "outputs": [
    {
     "name": "stdout",
     "output_type": "stream",
     "text": [
      "<class 'numpy.ndarray'>\n",
      "[4 5 6]\n",
      "int32\n",
      "<class 'numpy.ndarray'>\n",
      "[4. 5. 6.]\n",
      "float16\n"
     ]
    }
   ],
   "source": [
    "# 4, 5, 6을 ndarray에 담는다.\n",
    "ndarray1 = np.array([4, 5, 6])\n",
    "\n",
    "# dtype을 확인한 뒤 float16으로 변경시키고 확인한다.\n",
    "print(type(ndarray1), ndarray1, sep=\"\\n\")\n",
    "print(ndarray1.dtype)\n",
    "\n",
    "ndarray1_float16 = ndarray1.astype(np.float16)\n",
    "\n",
    "print(type(ndarray1_float16), ndarray1_float16, sep=\"\\n\")\n",
    "print(ndarray1_float16.dtype)"
   ]
  },
  {
   "cell_type": "markdown",
   "id": "c31c069c-694c-4004-a40d-bbb63d78007d",
   "metadata": {},
   "source": [
    "#### axis\n",
    "- 축의 방향성을 표현할 때, axis로 표현할 수 있다.\n",
    "\n",
    "<img src=\"./images/numpy2.png\" width=\"500px\" style=\"margin-left: 10px\">"
   ]
  },
  {
   "cell_type": "markdown",
   "id": "80c08f75-bfd9-4c96-bf14-289b2afde3ac",
   "metadata": {},
   "source": [
    "#### arange(),zeros(), ones()\n",
    "- ndarray의 요소를 원하는 범위의 연속값, 0 또는 1로 초기화 할 때 사용한다."
   ]
  },
  {
   "cell_type": "code",
   "execution_count": 25,
   "id": "735f6b65-0d55-4bf0-9413-f57a1de1bb33",
   "metadata": {},
   "outputs": [
    {
     "name": "stdout",
     "output_type": "stream",
     "text": [
      "int32 (10,)\n",
      "[0 1 2 3 4 5 6 7 8 9]\n",
      "float64 (2, 3)\n",
      "[[0. 0. 0.]\n",
      " [0. 0. 0.]]\n",
      "int16 (3,)\n",
      "[1 1 1]\n"
     ]
    }
   ],
   "source": [
    "# 0~9까지 1차원 ndarray\n",
    "ndarray1 = np.arange(0, 10)\n",
    "print(ndarray1.dtype, ndarray1.shape)\n",
    "print(ndarray1)\n",
    "\n",
    "# 2행 3열 요소 모두 0으로 초기화\n",
    "ndarray2 = np.zeros((2, 3))\n",
    "print(ndarray2.dtype, ndarray2.shape)\n",
    "print(ndarray2)\n",
    "\n",
    "# 1차원 3칸 배열 요소 모두 1로 초기화\n",
    "# ndarray1 = np.ones(3)\n",
    "ndarray1 = np.ones((3,), dtype=np.int16)\n",
    "print(ndarray1.dtype, ndarray1.shape)\n",
    "print(ndarray1)"
   ]
  },
  {
   "cell_type": "markdown",
   "id": "a7f23ee8-bdb7-4fde-8173-9a066de7a935",
   "metadata": {},
   "source": [
    "### reshape()\n",
    "- ndarray의 기존 shape를 다른 shape로 변경한다."
   ]
  },
  {
   "cell_type": "code",
   "execution_count": 34,
   "id": "7b181e4c-2691-4190-8fba-2f570cc50679",
   "metadata": {},
   "outputs": [
    {
     "name": "stdout",
     "output_type": "stream",
     "text": [
      "(8,)\n",
      "[0 1 2 3 4 5 6 7]\n",
      "==============================\n",
      "(2, 4)\n",
      "[[0 1 2 3]\n",
      " [4 5 6 7]]\n",
      "==============================\n",
      "(4, 2)\n",
      "[[0 1]\n",
      " [2 3]\n",
      " [4 5]\n",
      " [6 7]]\n",
      "==============================\n",
      "(8, 1)\n",
      "[[0]\n",
      " [1]\n",
      " [2]\n",
      " [3]\n",
      " [4]\n",
      " [5]\n",
      " [6]\n",
      " [7]]\n",
      "==============================\n"
     ]
    }
   ],
   "source": [
    "ndarray1 = np.arange(8)\n",
    "print(ndarray1.shape)\n",
    "print(ndarray1)\n",
    "\n",
    "print(\"=\" * 30)\n",
    "\n",
    "# ndarray1.reshape(2, 4)\n",
    "ndarray2 = ndarray1.reshape((2, 4))\n",
    "print(ndarray2.shape)\n",
    "print(ndarray2)\n",
    "\n",
    "print(\"=\" * 30)\n",
    "\n",
    "ndarray2 = ndarray1.reshape((-1, 2))\n",
    "print(ndarray2.shape)\n",
    "print(ndarray2)\n",
    "\n",
    "print(\"=\" * 30)\n",
    "\n",
    "ndarray2 = ndarray1.reshape((8, -1))\n",
    "print(ndarray2.shape)\n",
    "print(ndarray2)\n",
    "\n",
    "print(\"=\" * 30)"
   ]
  },
  {
   "cell_type": "markdown",
   "id": "52b3676f-c217-4881-af79-56bc5ac6060a",
   "metadata": {},
   "source": [
    "#### Indexing\n",
    "- 특정 위치의 데이터를 가져오는 것\n",
    "- 위치 인덱싱(Location indexing)\n",
    "- 슬라이싱(Slicing)\n",
    "- 팬시 인덱싱(Fancy indexing)\n",
    "- 불린 인덱싱(Boolean indexing)"
   ]
  },
  {
   "cell_type": "code",
   "execution_count": 41,
   "id": "697987aa-a41d-4653-83f5-418668a1fccd",
   "metadata": {},
   "outputs": [
    {
     "name": "stdout",
     "output_type": "stream",
     "text": [
      "[ 2  3  4  5  6  7  8  9 10]\n",
      "4 <class 'numpy.int32'>\n",
      "10 <class 'numpy.int32'>\n",
      "[  2   3   4   5   6   7   8   9 100]\n",
      "9\n"
     ]
    }
   ],
   "source": [
    "# 1차원 위치 인덱싱: 전달한 위치(인덱스) 값 한개 추출\n",
    "\n",
    "# 2부터 10까지 순서대로 요소를 갖는 1차원 ndarray\n",
    "ndarray1 = np.arange(start=2, stop=11)\n",
    "print(ndarray1)\n",
    "\n",
    "data = ndarray1[2]\n",
    "print(data, type(data))\n",
    "\n",
    "data = ndarray1[-1]\n",
    "print(data, type(data))\n",
    "\n",
    "ndarray1[-1] = 100\n",
    "print(ndarray1)\n",
    "\n",
    "# 9 가져오기\n",
    "data = ndarray1[-2]\n",
    "print(data)"
   ]
  },
  {
   "cell_type": "code",
   "execution_count": 50,
   "id": "2f80bc48-563a-42ed-bd3e-14a80df0a2d9",
   "metadata": {},
   "outputs": [
    {
     "name": "stdout",
     "output_type": "stream",
     "text": [
      "[[1 2 3]\n",
      " [4 5 6]\n",
      " [7 8 9]]\n",
      "4\n",
      "5\n",
      "[1 2 3] <class 'numpy.ndarray'>\n"
     ]
    }
   ],
   "source": [
    "# 2차원 위치 인덱싱: 전달한 위치(인덱스) 값 한개 추출\n",
    "# 1~9까지 1차원 ndarray 생성\n",
    "ndarray1 = np.arange(start=1, stop=10)\n",
    "\n",
    "# 2차원 3행으로 변경\n",
    "ndarray2 = ndarray1.reshape((3, -1))\n",
    "print(ndarray2)\n",
    "\n",
    "print(ndarray2[1, 0])\n",
    "print(ndarray2[1, 1])\n",
    "print(ndarray2[0], type(ndarray2[0]))"
   ]
  },
  {
   "cell_type": "code",
   "execution_count": 55,
   "id": "d1ea5811-eaf2-4278-bbf7-69b4fb128f7c",
   "metadata": {},
   "outputs": [
    {
     "name": "stdout",
     "output_type": "stream",
     "text": [
      "[2 4 6 8]\n",
      "[2 4 6]\n",
      "[2 4 6 8]\n",
      "[2 4 6] 8\n"
     ]
    }
   ],
   "source": [
    "# 1차원 슬라이싱: 시작 위치와 종료 위치에 해당하는 ndarray 추출\n",
    "\n",
    "ndarray1 = np.arange(start=2, stop=10, step=2)\n",
    "print(ndarray1)\n",
    "\n",
    "print(ndarray1[:3])\n",
    "print(ndarray1[:])\n",
    "print(ndarray1[:-1], ndarray1[-1])"
   ]
  },
  {
   "cell_type": "code",
   "execution_count": 65,
   "id": "0a59cf1a-ca29-4219-a717-a436bb2989d3",
   "metadata": {},
   "outputs": [
    {
     "name": "stdout",
     "output_type": "stream",
     "text": [
      "[ 1  2  3  4  5  6  7  8  9 10 11 12 13 14 15 16 17 18 19 20 21 22 23 24\n",
      " 25 26 27]\n",
      "==============================\n",
      "[[ 1  2  3]\n",
      " [ 4  5  6]\n",
      " [ 7  8  9]\n",
      " [10 11 12]\n",
      " [13 14 15]\n",
      " [16 17 18]\n",
      " [19 20 21]\n",
      " [22 23 24]\n",
      " [25 26 27]]\n",
      "==============================\n",
      "[[1 2]\n",
      " [4 5]\n",
      " [7 8]]\n",
      "==============================\n",
      "[[13 14 15]\n",
      " [16 17 18]\n",
      " [19 20 21]\n",
      " [22 23 24]\n",
      " [25 26 27]]\n",
      "==============================\n",
      "[[25 26 27]\n",
      " [22 23 24]\n",
      " [19 20 21]\n",
      " [16 17 18]\n",
      " [13 14 15]\n",
      " [10 11 12]\n",
      " [ 7  8  9]\n",
      " [ 4  5  6]\n",
      " [ 1  2  3]]\n",
      "==============================\n",
      "[[27 26 25]\n",
      " [24 23 22]\n",
      " [21 20 19]\n",
      " [18 17 16]\n",
      " [15 14 13]\n",
      " [12 11 10]\n",
      " [ 9  8  7]\n",
      " [ 6  5  4]\n",
      " [ 3  2  1]]\n"
     ]
    }
   ],
   "source": [
    "# 2차원 슬라이싱: 시작 위치와 종료 위치에 해당하는 ndarray 추출\n",
    "\n",
    "ndarray1 = np.arange(start=1, stop=28)\n",
    "print(ndarray1)\n",
    "\n",
    "print(\"=\" * 30)\n",
    "\n",
    "ndarray2 = ndarray1.reshape((-1, 3))\n",
    "print(ndarray2)\n",
    "\n",
    "print(\"=\" * 30)\n",
    "\n",
    "print(ndarray2[:3, :2])\n",
    "\n",
    "print(\"=\" * 30)\n",
    "\n",
    "print(ndarray2[4:9])\n",
    "\n",
    "print(\"=\" * 30)\n",
    "\n",
    "print(ndarray2[::-1])\n",
    "\n",
    "print(\"=\" * 30)\n",
    "\n",
    "print(ndarray2[::-1, ::-1])"
   ]
  },
  {
   "cell_type": "code",
   "execution_count": 69,
   "id": "7bc87a3b-ed00-4baa-9069-60aeccb81534",
   "metadata": {},
   "outputs": [
    {
     "name": "stdout",
     "output_type": "stream",
     "text": [
      "[[ 1  2  3  4  5]\n",
      " [ 6  7  8  9 10]\n",
      " [11 12 13 14 15]\n",
      " [16 17 18 19 20]]\n",
      "==============================\n",
      "[[ 3  4  5]\n",
      " [ 8  9 10]\n",
      " [18 19 20]]\n"
     ]
    }
   ],
   "source": [
    "# 팬시 인덱싱: list를 전달해서 한 번에 여러 요소를 추출한다.\n",
    "ndarray1 = np.arange(start=1, stop=21)\n",
    "ndarray2 = ndarray1.reshape((4, -1))\n",
    "print(ndarray2)\n",
    "\n",
    "print(\"=\" * 30)\n",
    "\n",
    "print(ndarray2[[0, 1, 3], 2:5])"
   ]
  },
  {
   "cell_type": "code",
   "execution_count": 73,
   "id": "2bc85264-3918-41a7-9853-5ad125f64900",
   "metadata": {},
   "outputs": [
    {
     "name": "stdout",
     "output_type": "stream",
     "text": [
      "[  5  10  15  20  25  30  35  40  45  50  55  60  65  70  75  80  85  90\n",
      "  95 100]\n"
     ]
    }
   ],
   "source": [
    "# 불린 인덱싱: True인 위치의 ndarray 추출\n",
    "\n",
    "ndarray1 = np.arange(start=1, stop=101, step=1)\n",
    "print(ndarray1[ndarray1 % 5 == 0])"
   ]
  },
  {
   "cell_type": "markdown",
   "id": "ab20b752-d256-4b02-a6e5-3db841fca6b9",
   "metadata": {},
   "source": [
    "#### Sorting\n",
    "- 모두 오름차순 정렬이며, 내림차순은 오름차순 정렬 후 [::-1]을 붙여 사용한다."
   ]
  },
  {
   "cell_type": "code",
   "execution_count": 74,
   "id": "c9fb6efe-d8fa-4b3d-907a-a289bdb4da75",
   "metadata": {},
   "outputs": [
    {
     "name": "stdout",
     "output_type": "stream",
     "text": [
      "원본 배열: [0 4 2 5]\n",
      "오름차순으로 정렬된 배열: [0 2 4 5]\n",
      "내림차순으로 정렬된 배열: [5 4 2 0]\n"
     ]
    }
   ],
   "source": [
    "# np.sort(ndarray)\n",
    "\n",
    "original_ndarray = np.array([0, 4, 2, 5])\n",
    "sorted_ndarray = np.sort(original_ndarray)\n",
    "\n",
    "print(f\"원본 배열: {original_ndarray}\")\n",
    "print(f\"오름차순으로 정렬된 배열: {sorted_ndarray}\")\n",
    "print(f\"내림차순으로 정렬된 배열: {sorted_ndarray[::-1]}\")"
   ]
  },
  {
   "cell_type": "code",
   "execution_count": 76,
   "id": "88b375c9-5048-4d12-9331-4606ac0719ec",
   "metadata": {},
   "outputs": [
    {
     "name": "stdout",
     "output_type": "stream",
     "text": [
      "원본\n",
      "[[20 18 16 14 12]\n",
      " [10  8  6  4  2]]\n",
      "axis=0 정렬\n",
      "[[10  8  6  4  2]\n",
      " [20 18 16 14 12]]\n",
      "axis=1 정렬\n",
      "[[12 14 16 18 20]\n",
      " [ 2  4  6  8 10]]\n"
     ]
    }
   ],
   "source": [
    "# np.sort(ndarray, axis=n)\n",
    "\n",
    "ndarray1 = np.array([i for i in range(20, 0, -2)])\n",
    "ndarray2 = ndarray1.reshape((2, -1))\n",
    "print(f\"원본\\n{ndarray2}\")\n",
    "\n",
    "sorted_ndarray_axis0 = np.sort(ndarray2, axis=0)\n",
    "print(f\"axis=0 정렬\\n{sorted_ndarray_axis0}\")\n",
    "\n",
    "sorted_ndarray_axis1 = np.sort(ndarray2, axis=1)\n",
    "print(f\"axis=1 정렬\\n{sorted_ndarray_axis1}\")"
   ]
  },
  {
   "cell_type": "code",
   "execution_count": 78,
   "id": "9f249027-6da4-4fed-8b8d-3f2dbe1534ce",
   "metadata": {},
   "outputs": [
    {
     "name": "stdout",
     "output_type": "stream",
     "text": [
      "정렬 후 원본 인덱스: [0 2 1 3]\n",
      "오름차순으로 정렬된 ndarray: [0 2 3 6]\n"
     ]
    }
   ],
   "source": [
    "# np.argsort(ndarray)\n",
    "\n",
    "original_ndarray = np.array([0, 3, 2, 6])\n",
    "sorted_indices = np.argsort(original_ndarray)\n",
    "print(f\"정렬 후 원본 인덱스: {sorted_indices}\")\n",
    "\n",
    "sorted_ndarray = original_ndarray[sorted_indices]\n",
    "print(f\"오름차순으로 정렬된 ndarray: {sorted_ndarray}\")"
   ]
  },
  {
   "cell_type": "code",
   "execution_count": 187,
   "id": "3d9420a8-69fe-4e1f-8a0a-bb3ff284d3a7",
   "metadata": {},
   "outputs": [
    {
     "name": "stdout",
     "output_type": "stream",
     "text": [
      "['Lamborghini' 'Mclaren' 'Bentley' 'Benz' 'The New Morning']\n"
     ]
    }
   ],
   "source": [
    "# 제로백이 빠른 순으로 자동차 이름 정렬하기\n",
    "\n",
    "cars = np.array(['Lamborghini', 'Mclaren', 'Benz', 'Bentley', 'The New Morning'])\n",
    "zero100 = np.array([2.8, 2.9, 5.2, 3.7, 13.5])\n",
    "\n",
    "sorted_zero100_indices = np.argsort(zero100)\n",
    "sorted_cars = cars[sorted_zero100_indices]\n",
    "print(sorted_cars)"
   ]
  },
  {
   "cell_type": "markdown",
   "id": "67e5395c-0df7-4929-9d3b-da7d6530f427",
   "metadata": {},
   "source": [
    "### 벡터\n",
    "- 데이터 과학에서 벡터란 숫자 자료를 나열한 것을 의미한다.\n",
    "- 벡터는 공간에서 한 점을 나타낸다.\n",
    "- feature 1개당 1차원이고, feature가 3개면 3차원이다.\n",
    "- 이 때, 1차원 좌표평면에서는 열벡터를 표현할 수 있으며, 2차원 좌표평면에서는 2열 데이터를 표현할 수 있게 된다."
   ]
  },
  {
   "cell_type": "markdown",
   "id": "96358d09-4d78-41ec-b607-4f700b271c64",
   "metadata": {},
   "source": [
    "#### 내적 (Dot product)\n",
    "- 두 벡터의 성분들의 곱의 합\n",
    "\n",
    "<img src=\"./images/dot_product.png\" width=\"500px\" style=\"margin-left: 0;\">"
   ]
  },
  {
   "cell_type": "markdown",
   "id": "0c604c58-6db6-4f22-9bb8-c1d54b38895c",
   "metadata": {},
   "source": [
    "#### 선형대수 (Linear Algebra)\n",
    "- 선형 방정식을 풀기 위해 배우는 학문이다.\n",
    "- 4x = 16일 경우, 좌항의 4를 우항으로 넘겨서 x라는 것을 구할 수 있고,  \n",
    "  방정식 1개만으로 해를 구할 수 있다.\n",
    "- y = 2x + 5일 경우, 미지수가 2개이기 때문에 방정식이 2개 필요하다.\n",
    "- 이러한 연립 방정식을 표현할 때 쉽게 표현하기 위해서 선형대수를 배운다."
   ]
  },
  {
   "cell_type": "code",
   "execution_count": 2,
   "id": "daf5da18-16f3-4ec7-a90c-034726c59215",
   "metadata": {},
   "outputs": [
    {
     "name": "stdout",
     "output_type": "stream",
     "text": [
      "[[1 2]\n",
      " [3 4]]\n",
      "[[5]\n",
      " [6]]\n",
      "[[17]\n",
      " [39]]\n"
     ]
    }
   ],
   "source": [
    "import numpy as np\n",
    "A = np.array([1, 2, 3, 4]).reshape((2, 2))\n",
    "w = np.array([5, 6]).reshape((2, 1))\n",
    "\n",
    "print(A, w, sep=\"\\n\")\n",
    "print(np.dot(A, w))"
   ]
  },
  {
   "cell_type": "code",
   "execution_count": 3,
   "id": "41821179-86c1-4539-bf9f-0218fbaa298e",
   "metadata": {},
   "outputs": [
    {
     "name": "stdout",
     "output_type": "stream",
     "text": [
      "[[8.]\n",
      " [2.]]\n"
     ]
    }
   ],
   "source": [
    "# x + y = 10\n",
    "# 2x - 3y = 10\n",
    "\n",
    "# Aw = k\n",
    "\n",
    "A = np.array([[1, 1], [2, -3]])\n",
    "k = np.array([[10, 10]]).T\n",
    "w = np.dot(np.linalg.inv(A), k)\n",
    "print(w)"
   ]
  },
  {
   "cell_type": "code",
   "execution_count": 10,
   "id": "7cc824b7-306b-426f-a4d7-393495f93408",
   "metadata": {},
   "outputs": [
    {
     "name": "stdout",
     "output_type": "stream",
     "text": [
      "[[ 8.]\n",
      " [-2.]\n",
      " [-1.]]\n"
     ]
    }
   ],
   "source": [
    "# x + 2y + 3z = 1\n",
    "# x + 2y + z = 3\n",
    "# x + 3z = 5\n",
    "\n",
    "A = np.array([[1, 2, 3], [1, 2, 1], [1, 0, 3]])\n",
    "k = np.array([[1, 3, 5]]).T\n",
    "\n",
    "w = np.dot(np.linalg.inv(A), k)\n",
    "print(w)"
   ]
  },
  {
   "cell_type": "markdown",
   "id": "096c08ee-b91c-421d-9722-da9d3b4cdf69",
   "metadata": {},
   "source": [
    "#### 과결정계(Overdetermined system)\n",
    "- 미지수보다 많은 방정식이 있는 연립방정식으로서 보통 해가 존재하지 않는다.\n",
    "- 3차원 공간에 존재하는 2차원 평면에서 3차원 공간의 해를 구할 수 없기 때문에,  \n",
    "  3차원을 2차원으로 축소해랴 하고, 이 때 투영이 필요하다.\n",
    "- 투영시, 원본 값에서 어느정도의 loss(손실)가 발생하지만 이를 감안하고 근사값"
   ]
  },
  {
   "cell_type": "code",
   "execution_count": null,
   "id": "f9599907-44d5-4a7f-a542-a9078b790534",
   "metadata": {},
   "outputs": [],
   "source": []
  }
 ],
 "metadata": {
  "kernelspec": {
   "display_name": "Python 3 (ipykernel)",
   "language": "python",
   "name": "python3"
  },
  "language_info": {
   "codemirror_mode": {
    "name": "ipython",
    "version": 3
   },
   "file_extension": ".py",
   "mimetype": "text/x-python",
   "name": "python",
   "nbconvert_exporter": "python",
   "pygments_lexer": "ipython3",
   "version": "3.11.8"
  }
 },
 "nbformat": 4,
 "nbformat_minor": 5
}
